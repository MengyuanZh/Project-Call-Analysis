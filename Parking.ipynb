{
 "cells": [
  {
   "cell_type": "code",
   "execution_count": null,
   "metadata": {
    "collapsed": true
   },
   "outputs": [],
   "source": [
    "import pandas as pd"
   ]
  },
  {
   "cell_type": "code",
   "execution_count": null,
   "outputs": [],
   "source": [
    "#Variable assignment\n",
    "higher_parking_proportion = None\n",
    "\n",
    "#Reading dataset\n",
    "df = pd.read_csv(\"311_Service_Requests_2020.csv\")\n"
   ],
   "metadata": {
    "collapsed": false,
    "pycharm": {
     "name": "#%%\n"
    }
   }
  },
  {
   "cell_type": "code",
   "execution_count": null,
   "outputs": [],
   "source": [
    "#Checking for missing values\n",
    "df['Complaint Type'].isna().sum()"
   ],
   "metadata": {
    "collapsed": false,
    "pycharm": {
     "name": "#%%\n"
    }
   }
  },
  {
   "cell_type": "code",
   "execution_count": null,
   "outputs": [],
   "source": [
    "#Total number of incidents global\n",
    "Num_of_Incidents_Global = len(df.index)\n",
    "\n",
    "#Extracting the rows that are related to our chosen zip code 10027\n",
    "df_10027 = df[df[\"Incident Zip\"] == 10027]\n",
    "df_10027.head(5)\n",
    "\n",
    "#Total number of incidents in 10027\n",
    "Num_of_Incidents_10027 = len(df_10027.index)\n",
    "print(Num_of_Incidents_10027)"
   ],
   "metadata": {
    "collapsed": false,
    "pycharm": {
     "name": "#%%\n"
    }
   }
  },
  {
   "cell_type": "code",
   "execution_count": null,
   "outputs": [],
   "source": [
    "#Looking at unique values to determine the name of parking incidents\n",
    "#\"Illegal Parking\"\n",
    "df_10027[\"Complaint Type\"].unique()"
   ],
   "metadata": {
    "collapsed": false,
    "pycharm": {
     "name": "#%%\n"
    }
   }
  },
  {
   "cell_type": "code",
   "execution_count": null,
   "outputs": [],
   "source": [
    "#Count number of parking incidents in zip code 10027\n",
    "df_10027_parking = df_10027[df_10027[\"Complaint Type\"] == \"Illegal Parking\"]\n",
    "#df_10027_parking.head()\n",
    "\n",
    "Num_of_Parking_Iccident_10027 = len(df_10027_parking.index)\n",
    "print(Num_of_Parking_Iccident_10027)"
   ],
   "metadata": {
    "collapsed": false,
    "pycharm": {
     "name": "#%%\n"
    }
   }
  },
  {
   "cell_type": "code",
   "execution_count": null,
   "outputs": [],
   "source": [
    "#Number of parking incidents in global\n",
    "df_global_parking = df[df[\"Complaint Type\"] == \"Illegal Parking\"]\n",
    "Num_of_Parking_Incidents_Global = len(df_global_parking.index)\n",
    "print(Num_of_Parking_Incidents_Global)"
   ],
   "metadata": {
    "collapsed": false,
    "pycharm": {
     "name": "#%%\n"
    }
   }
  },
  {
   "cell_type": "code",
   "execution_count": null,
   "outputs": [],
   "source": [
    "#Calculation and results\n",
    "percentage_10027 = Num_of_Parking_Iccident_10027/Num_of_Incidents_10027\n",
    "percentage_global = Num_of_Parking_Incidents_Global/Num_of_Incidents_Global\n",
    "if percentage_10027 > percentage_global:\n",
    "  higher_parking_proportion = True\n",
    "else:\n",
    "  higher_parking_proportion = False\n",
    "\n",
    "print (higher_parking_proportion)"
   ],
   "metadata": {
    "collapsed": false,
    "pycharm": {
     "name": "#%%\n"
    }
   }
  }
 ],
 "metadata": {
  "kernelspec": {
   "display_name": "Python 3",
   "language": "python",
   "name": "python3"
  },
  "language_info": {
   "codemirror_mode": {
    "name": "ipython",
    "version": 2
   },
   "file_extension": ".py",
   "mimetype": "text/x-python",
   "name": "python",
   "nbconvert_exporter": "python",
   "pygments_lexer": "ipython2",
   "version": "2.7.6"
  }
 },
 "nbformat": 4,
 "nbformat_minor": 0
}