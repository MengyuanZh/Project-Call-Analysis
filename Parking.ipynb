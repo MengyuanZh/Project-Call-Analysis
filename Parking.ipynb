{
 "cells": [
  {
   "cell_type": "code",
   "execution_count": 3,
   "metadata": {
    "collapsed": true
   },
   "outputs": [],
   "source": [
    "import pandas as pd"
   ]
  },
  {
   "cell_type": "code",
   "execution_count": 4,
   "metadata": {
    "collapsed": false,
    "pycharm": {
     "name": "#%%\n"
    }
   },
   "outputs": [
    {
     "name": "stderr",
     "output_type": "stream",
     "text": [
      "/Users/blairdu/opt/anaconda3/lib/python3.8/site-packages/IPython/core/interactiveshell.py:3165: DtypeWarning: Columns (20,31,32) have mixed types.Specify dtype option on import or set low_memory=False.\n",
      "  has_raised = await self.run_ast_nodes(code_ast.body, cell_name,\n"
     ]
    }
   ],
   "source": [
    "#Variable assignment\n",
    "higher_parking_proportion = None\n",
    "\n",
    "#Reading dataset\n",
    "df = pd.read_csv(\"311_Service_Requests_2020.csv\")\n"
   ]
  },
  {
   "cell_type": "code",
   "execution_count": 5,
   "metadata": {
    "collapsed": false,
    "pycharm": {
     "name": "#%%\n"
    }
   },
   "outputs": [
    {
     "data": {
      "text/plain": [
       "0"
      ]
     },
     "execution_count": 5,
     "metadata": {},
     "output_type": "execute_result"
    }
   ],
   "source": [
    "#Checking for missing values\n",
    "df['Complaint Type'].isna().sum()"
   ]
  },
  {
   "cell_type": "code",
   "execution_count": 6,
   "metadata": {
    "collapsed": false,
    "pycharm": {
     "name": "#%%\n"
    }
   },
   "outputs": [
    {
     "name": "stdout",
     "output_type": "stream",
     "text": [
      "21470\n"
     ]
    }
   ],
   "source": [
    "#Total number of incidents global\n",
    "Num_of_Incidents_Global = len(df.index)\n",
    "\n",
    "#Extracting the rows that are related to our chosen zip code 10027\n",
    "df_10027 = df[df[\"Incident Zip\"] == 10027]\n",
    "df_10027.head(5)\n",
    "\n",
    "#Total number of incidents in 10027\n",
    "Num_of_Incidents_10027 = len(df_10027.index)\n",
    "print(Num_of_Incidents_10027)"
   ]
  },
  {
   "cell_type": "code",
   "execution_count": 7,
   "metadata": {
    "collapsed": false,
    "pycharm": {
     "name": "#%%\n"
    }
   },
   "outputs": [
    {
     "data": {
      "text/plain": [
       "array(['Noise - Commercial', 'Noise - Residential',\n",
       "       'Noise - Street/Sidewalk', 'Noise - Vehicle', 'Dirty Conditions',\n",
       "       'HEAT/HOT WATER', 'Missed Collection (All Materials)',\n",
       "       'Illegal Parking', 'Water System', 'Non-Emergency Police Matter',\n",
       "       'Street Condition', 'Street Sign - Damaged',\n",
       "       'Traffic Signal Condition', 'Broken Parking Meter',\n",
       "       'UNSANITARY CONDITION', 'FLOORING/STAIRS', 'Food Establishment',\n",
       "       'Street Light Condition', 'Maintenance or Facility',\n",
       "       'Sidewalk Condition', 'General Construction/Plumbing',\n",
       "       'Sanitation Condition', 'ELEVATOR', 'Rodent', 'Curb Condition',\n",
       "       'GENERAL', 'Animal in a Park', 'Noise',\n",
       "       'Homeless Person Assistance', 'Plumbing', 'Indoor Air Quality',\n",
       "       'DOOR/WINDOW', 'Animal-Abuse', 'ELECTRIC', 'School Maintenance',\n",
       "       'Abandoned Vehicle', 'Water Conservation', 'PAINT/PLASTER',\n",
       "       'Graffiti', 'Lost Property', 'Taxi Complaint',\n",
       "       'Hazardous Materials', 'BEST/Site Safety',\n",
       "       'For Hire Vehicle Complaint', 'Street Sign - Dangling',\n",
       "       'Blocked Driveway', 'Elevator', 'WATER LEAK', 'Water Quality',\n",
       "       'PLUMBING', 'Building/Use', 'New Tree Request', 'Food Poisoning',\n",
       "       'Air Quality', 'APPLIANCE', 'Boilers', 'Traffic',\n",
       "       'Consumer Complaint', 'Construction Lead Dust', 'Asbestos',\n",
       "       'Noise - Helicopter', 'Bike/Roller/Skate Chronic', 'Sewer',\n",
       "       'Drinking Water', 'Investigations and Discipline (IAD)', 'Lead',\n",
       "       'SAFETY', 'Damaged Tree', 'Smoking',\n",
       "       'Emergency Response Team (ERT)', 'Snow Removal', 'Snow',\n",
       "       'Street Sign - Missing', 'Taxi Report', 'Other Enforcement',\n",
       "       'Public Toilet', 'Panhandling', 'Homeless Street Condition',\n",
       "       'Special Projects Inspection Team (SPIT)', 'Mold',\n",
       "       'OUTSIDE BUILDING', 'Violation of Park Rules', 'Derelict Vehicles',\n",
       "       'Root/Sewer/Sidewalk Condition', 'For Hire Vehicle Report',\n",
       "       'Electrical', 'Vending', 'Drug Activity', 'Day Care',\n",
       "       'Indoor Sewage', 'Derelict Bicycle', 'Overgrown Tree/Branches',\n",
       "       'Noise - House of Worship', 'Scaffold Safety',\n",
       "       'Bus Stop Shelter Complaint', 'Unsanitary Animal Pvt Property',\n",
       "       'Mobile Food Vendor', 'Noise - Park',\n",
       "       'COVID-19 Non-essential Construction', 'Illegal Tree Damage',\n",
       "       'Home Delivered Meal - Missed Delivery', 'Encampment',\n",
       "       'Urinating in Public', 'Dead/Dying Tree', 'Industrial Waste',\n",
       "       'Drinking', 'Illegal Animal Sold', 'Bike Rack Condition',\n",
       "       'Unsanitary Pigeon Condition', 'Building Condition',\n",
       "       'Illegal Fireworks', 'NonCompliance with Phased Reopening',\n",
       "       'Recycling Enforcement', 'Green Taxi Complaint', 'Unleashed Dog',\n",
       "       'Cranes and Derricks', 'Mosquitoes', 'Standing Water', 'Tattooing',\n",
       "       'Disorderly Youth', 'Outdoor Dining', 'Bus Stop Shelter Placement',\n",
       "       'Mass Gathering Complaint', 'Radioactive Material',\n",
       "       'Non-Residential Heat'], dtype=object)"
      ]
     },
     "execution_count": 7,
     "metadata": {},
     "output_type": "execute_result"
    }
   ],
   "source": [
    "#Looking at unique values to determine the name of parking incidents\n",
    "#\"Illegal Parking\"\n",
    "df_10027[\"Complaint Type\"].unique()"
   ]
  },
  {
   "cell_type": "code",
   "execution_count": 8,
   "metadata": {
    "collapsed": false,
    "pycharm": {
     "name": "#%%\n"
    }
   },
   "outputs": [
    {
     "name": "stdout",
     "output_type": "stream",
     "text": [
      "1118\n"
     ]
    }
   ],
   "source": [
    "#Count number of parking incidents in zip code 10027\n",
    "df_10027_parking = df_10027[df_10027[\"Complaint Type\"] == \"Illegal Parking\"]\n",
    "#df_10027_parking.head()\n",
    "\n",
    "Num_of_Parking_Iccident_10027 = len(df_10027_parking.index)\n",
    "print(Num_of_Parking_Iccident_10027)"
   ]
  },
  {
   "cell_type": "code",
   "execution_count": 9,
   "metadata": {
    "collapsed": false,
    "pycharm": {
     "name": "#%%\n"
    }
   },
   "outputs": [
    {
     "name": "stdout",
     "output_type": "stream",
     "text": [
      "193721\n"
     ]
    }
   ],
   "source": [
    "#Number of parking incidents in global\n",
    "df_global_parking = df[df[\"Complaint Type\"] == \"Illegal Parking\"]\n",
    "Num_of_Parking_Incidents_Global = len(df_global_parking.index)\n",
    "print(Num_of_Parking_Incidents_Global)"
   ]
  },
  {
   "cell_type": "code",
   "execution_count": 12,
   "metadata": {
    "collapsed": false,
    "pycharm": {
     "name": "#%%\n"
    }
   },
   "outputs": [
    {
     "name": "stdout",
     "output_type": "stream",
     "text": [
      "higher_parking_proportion is False\n"
     ]
    }
   ],
   "source": [
    "#Calculation and results\n",
    "percentage_10027 = Num_of_Parking_Iccident_10027/Num_of_Incidents_10027\n",
    "percentage_global = Num_of_Parking_Incidents_Global/Num_of_Incidents_Global\n",
    "if percentage_10027 > percentage_global:\n",
    "  higher_parking_proportion = True\n",
    "else:\n",
    "  higher_parking_proportion = False\n",
    "\n",
    "print(\"higher_parking_proportion is \" + str(higher_parking_proportion))"
   ]
  }
 ],
 "metadata": {
  "kernelspec": {
   "display_name": "Python 3",
   "language": "python",
   "name": "python3"
  },
  "language_info": {
   "codemirror_mode": {
    "name": "ipython",
    "version": 3
   },
   "file_extension": ".py",
   "mimetype": "text/x-python",
   "name": "python",
   "nbconvert_exporter": "python",
   "pygments_lexer": "ipython3",
   "version": "3.8.8"
  }
 },
 "nbformat": 4,
 "nbformat_minor": 0
}
